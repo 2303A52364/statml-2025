{
  "nbformat": 4,
  "nbformat_minor": 0,
  "metadata": {
    "colab": {
      "provenance": []
    },
    "kernelspec": {
      "name": "python3",
      "display_name": "Python 3"
    },
    "language_info": {
      "name": "python"
    }
  },
  "cells": [
    {
      "cell_type": "markdown",
      "source": [
        "question 1"
      ],
      "metadata": {
        "id": "NJPVOL5FW13H"
      }
    },
    {
      "cell_type": "code",
      "source": [
        "import  matplotlib.pyplot as plt\n",
        "x=(2.3,2.5,3.6,2.8,3.1,2.9,3.2,2.7,2.8,3.0)\n",
        "plt.hist(x,5)\n"
      ],
      "metadata": {
        "colab": {
          "base_uri": "https://localhost:8080/",
          "height": 482
        },
        "id": "QEXQqhJjW8dW",
        "outputId": "c8b7c1b9-15bd-4eb9-9b80-666fe73f59e1"
      },
      "execution_count": 2,
      "outputs": [
        {
          "output_type": "execute_result",
          "data": {
            "text/plain": [
              "(array([2., 3., 2., 2., 1.]),\n",
              " array([2.3 , 2.56, 2.82, 3.08, 3.34, 3.6 ]),\n",
              " <BarContainer object of 5 artists>)"
            ]
          },
          "metadata": {},
          "execution_count": 2
        },
        {
          "output_type": "display_data",
          "data": {
            "text/plain": [
              "<Figure size 640x480 with 1 Axes>"
            ],
            "image/png": "[encoded data removed]"
          },
          "metadata": {}
        }
      ]
    },
    {
      "cell_type": "markdown",
      "source": [
        "question 2"
      ],
      "metadata": {
        "id": "Qck2D4RUXVCf"
      }
    },
    {
      "cell_type": "code",
      "source": [
        "import numpy as np\n",
        "!pip install scipy\n",
        "from scipy import stats\n",
        "de=[4,5,8,2,4,2,5]\n",
        "inde=[5,6,3,8,3,7,8]\n",
        "de=np.array(de)\n",
        "inde=np.array(inde)"
      ],
      "metadata": {
        "colab": {
          "base_uri": "https://localhost:8080/"
        },
        "id": "uH_xoVUeXXMW",
        "outputId": "1ee38b81-ba84-48f9-996c-ab224e8ac4f0"
      },
      "execution_count": 3,
      "outputs": [
        {
          "output_type": "stream",
          "name": "stdout",
          "text": [
            "Requirement already satisfied: scipy in /usr/local/lib/python3.10/dist-packages (1.13.1)\n",
            "Requirement already satisfied: numpy<2.3,>=1.22.4 in /usr/local/lib/python3.10/dist-packages (from scipy) (1.26.4)\n"
          ]
        }
      ]
    },
    {
      "cell_type": "code",
      "source": [
        "#to find  mean,median,mode,variance,standard deviation,Range,interquartile,range(IQR),skewness,kurtosis of x and y\n",
        "print(np.mean(de))\n",
        "print(np.mean(inde))\n",
        "print(np.median(de))\n",
        "print(np.median(inde))\n",
        "print(stats.mode(de))\n",
        "print(stats.mode(inde))\n",
        "\n",
        "print(\"    \")\n",
        "\n",
        "print(np.var(de))\n",
        "print(np.var(inde))\n",
        "print(np.std(de))\n",
        "print(np.std(inde))\n",
        "print(np.max(de)-np.min(de))\n",
        "print(np.max(inde)-np.min(inde))\n",
        "\n",
        "print(np.percentile(de,75)-np.percentile(de,25))\n",
        "print(np.percentile(inde,75)-np.percentile(inde,25))\n",
        "print(stats.skew(de))\n",
        "print(stats.skew(inde))\n",
        "print(stats.kurtosis(de))\n",
        "print(stats.kurtosis(inde))\n",
        "\n"
      ],
      "metadata": {
        "colab": {
          "base_uri": "https://localhost:8080/"
        },
        "id": "OCRtMbmTX08g",
        "outputId": "598f619b-ab6f-460d-b62e-4527b4384983"
      },
      "execution_count": 4,
      "outputs": [
        {
          "output_type": "stream",
          "name": "stdout",
          "text": [
            "4.285714285714286\n",
            "5.714285714285714\n",
            "4.0\n",
            "6.0\n",
            "ModeResult(mode=2, count=2)\n",
            "ModeResult(mode=3, count=2)\n",
            "    \n",
            "3.6326530612244894\n",
            "3.918367346938776\n",
            "1.9059520091609048\n",
            "1.979486637221574\n",
            "6\n",
            "5\n",
            "2.0\n",
            "3.5\n",
            "0.5785710902698393\n",
            "-0.26386711521557127\n",
            "-0.34282287589950755\n",
            "-1.4541015625000002\n"
          ]
        }
      ]
    },
    {
      "cell_type": "code",
      "source": [
        "import pandas as pd\n",
        "d = pd.read_csv(\"/content/sample_data/california_housing_train.csv\")\n",
        "print(d)\n"
      ],
      "metadata": {
        "colab": {
          "base_uri": "https://localhost:8080/"
        },
        "id": "TgzNxHExX_9M",
        "outputId": "ec4fd06c-2bc1-42e7-a3b6-ef11853b3565"
      },
      "execution_count": 5,
      "outputs": [
        {
          "output_type": "stream",
          "name": "stdout",
          "text": [
            "       longitude  latitude  housing_median_age  total_rooms  total_bedrooms  \\\n",
            "0        -114.31     34.19                15.0       5612.0          1283.0   \n",
            "1        -114.47     34.40                19.0       7650.0          1901.0   \n",
            "2        -114.56     33.69                17.0        720.0           174.0   \n",
            "3        -114.57     33.64                14.0       1501.0           337.0   \n",
            "4        -114.57     33.57                20.0       1454.0           326.0   \n",
            "...          ...       ...                 ...          ...             ...   \n",
            "16995    -124.26     40.58                52.0       2217.0           394.0   \n",
            "16996    -124.27     40.69                36.0       2349.0           528.0   \n",
            "16997    -124.30     41.84                17.0       2677.0           531.0   \n",
            "16998    -124.30     41.80                19.0       2672.0           552.0   \n",
            "16999    -124.35     40.54                52.0       1820.0           300.0   \n",
            "\n",
            "       population  households  median_income  median_house_value  \n",
            "0          1015.0       472.0         1.4936             66900.0  \n",
            "1          1129.0       463.0         1.8200             80100.0  \n",
            "2           333.0       117.0         1.6509             85700.0  \n",
            "3           515.0       226.0         3.1917             73400.0  \n",
            "4           624.0       262.0         1.9250             65500.0  \n",
            "...           ...         ...            ...                 ...  \n",
            "16995       907.0       369.0         2.3571            111400.0  \n",
            "16996      1194.0       465.0         2.5179             79000.0  \n",
            "16997      1244.0       456.0         3.0313            103600.0  \n",
            "16998      1298.0       478.0         1.9797             85800.0  \n",
            "16999       806.0       270.0         3.0147             94600.0  \n",
            "\n",
            "[17000 rows x 9 columns]\n"
          ]
        }
      ]
    },
    {
      "cell_type": "code",
      "source": [
        "#find mean ,meadian,mode,varience,standard deviation,range,interquartile range,Skewness, kurtosis of x and y.\n",
        "print(\"LATITUDES\")\n",
        "\n",
        "print('mean of latitude')\n",
        "print(d['latitude'].mean())\n",
        "print('median of latitude')\n",
        "print(d['latitude'].median())\n",
        "print('mode of latitude')\n",
        "print(d['latitude'].mode())\n",
        "print('varience of latitude')\n",
        "print(d['latitude'].var())\n",
        "print('standard deviation of latitude')\n",
        "print(d['latitude'].std())\n",
        "print('range of latitude')\n",
        "print(d['latitude'].max()-d['latitude'].min())\n",
        "print('interquartile range of latitude')\n",
        "print(d['latitude'].quantile(0.75)-d['latitude'].quantile(0.25))\n",
        "print('skewness of latitude')\n",
        "print(d['latitude'].skew())\n",
        "print('kurtosis of latitude')\n",
        "print(d['latitude'].kurtosis())"
      ],
      "metadata": {
        "colab": {
          "base_uri": "https://localhost:8080/"
        },
        "id": "3xyPwY4SYG95",
        "outputId": "ca4c3445-d20a-4d88-a86b-b8f6a97958d1"
      },
      "execution_count": 6,
      "outputs": [
        {
          "output_type": "stream",
          "name": "stdout",
          "text": [
            "LATITUDES\n",
            "mean of latitude\n",
            "35.62522470588235\n",
            "median of latitude\n",
            "34.25\n",
            "mode of latitude\n",
            "0    34.06\n",
            "Name: latitude, dtype: float64\n",
            "varience of latitude\n",
            "4.568221397824785\n",
            "standard deviation of latitude\n",
            "2.1373397946570836\n",
            "range of latitude\n",
            "9.410000000000004\n",
            "interquartile range of latitude\n",
            "3.789999999999999\n",
            "skewness of latitude\n",
            "0.4718011203585246\n",
            "kurtosis of latitude\n",
            "-1.1122264930558603\n"
          ]
        }
      ]
    },
    {
      "cell_type": "code",
      "source": [
        "print('LONGITUDE')\n",
        "\n",
        "print('mean of longitude')\n",
        "print(d['longitude'].mean())\n",
        "print('median of longitude')\n",
        "print(d['longitude'].median())\n",
        "print('mode of longitude')\n",
        "print(d['longitude'].mode())\n",
        "print('varience of longitude')\n",
        "print(d['longitude'].var())\n",
        "print('standard deviation of longitude')\n",
        "print(d['longitude'].std())\n",
        "print('range of longitude')\n",
        "print(d['longitude'].max()-d['longitude'].min())\n",
        "print('interquartile range of longitude')\n",
        "print(d['longitude'].quantile(0.75)-d['longitude'].quantile(0.25))\n",
        "print('skewness of longitude')\n",
        "print(d['longitude'].skew())\n",
        "print('kurtosis of longitude')\n",
        "print(d['longitude'].kurtosis())"
      ],
      "metadata": {
        "colab": {
          "base_uri": "https://localhost:8080/"
        },
        "id": "B3ZibaNSYRRH",
        "outputId": "e6f86b94-eb92-41b1-d6d0-29a928bc527b"
      },
      "execution_count": 7,
      "outputs": [
        {
          "output_type": "stream",
          "name": "stdout",
          "text": [
            "LONGITUDE\n",
            "mean of longitude\n",
            "-119.5621082352941\n",
            "median of longitude\n",
            "-118.49\n",
            "mode of longitude\n",
            "0   -118.31\n",
            "Name: longitude, dtype: float64\n",
            "varience of longitude\n",
            "4.020692325480737\n",
            "standard deviation of longitude\n",
            "2.0051664084261778\n",
            "range of longitude\n",
            "10.039999999999992\n",
            "interquartile range of longitude\n",
            "3.7900000000000063\n",
            "skewness of longitude\n",
            "-0.30400297675663496\n",
            "kurtosis of longitude\n",
            "-1.3223296680648942\n"
          ]
        }
      ]
    },
    {
      "cell_type": "code",
      "source": [
        "print(d['housing_median_age'])\n",
        "\n",
        "print('mean of housing_median_age')\n",
        "print(d['housing_median_age'].mean())\n",
        "print('median of housing_median_age')\n",
        "print(d['housing_median_age'].median())\n",
        "print('mode of housing_median_age')\n",
        "print(d['housing_median_age'].mode())\n",
        "print('varience of housing_median_age')\n",
        "print(d['housing_median_age'].var())\n",
        "print('standard deviation of housing_median_age')\n",
        "print(d['housing_median_age'].std())\n",
        "print('range of housing_median_age')\n",
        "print(d['housing_median_age'].max()-d['housing_median_age'].min())\n",
        "print('interquartile range of housing_median_age')\n",
        "print(d['housing_median_age'].quantile(0.75)-d['housing_median_age'].quantile(0.25))\n",
        "print('skewness of housing_median_age')\n",
        "print(d['housing_median_age'].skew())\n",
        "print('kurtosis of housing_median_age')\n",
        "print(d['housing_median_age'].kurtosis())\n"
      ],
      "metadata": {
        "colab": {
          "base_uri": "https://localhost:8080/"
        },
        "id": "BFvCXByHYZME",
        "outputId": "d37208b1-2d55-4030-fbf7-22d5b57a7dd6"
      },
      "execution_count": 8,
      "outputs": [
        {
          "output_type": "stream",
          "name": "stdout",
          "text": [
            "0        15.0\n",
            "1        19.0\n",
            "2        17.0\n",
            "3        14.0\n",
            "4        20.0\n",
            "         ... \n",
            "16995    52.0\n",
            "16996    36.0\n",
            "16997    17.0\n",
            "16998    19.0\n",
            "16999    52.0\n",
            "Name: housing_median_age, Length: 17000, dtype: float64\n",
            "mean of housing_median_age\n",
            "28.58935294117647\n",
            "median of housing_median_age\n",
            "29.0\n",
            "mode of housing_median_age\n",
            "0    52.0\n",
            "Name: housing_median_age, dtype: float64\n",
            "varience of housing_median_age\n",
            "158.4309825802902\n",
            "standard deviation of housing_median_age\n",
            "12.586936981660399\n",
            "range of housing_median_age\n",
            "51.0\n",
            "interquartile range of housing_median_age\n",
            "19.0\n",
            "skewness of housing_median_age\n",
            "0.06489403293452067\n",
            "kurtosis of housing_median_age\n",
            "-0.8008262246647506\n"
          ]
        }
      ]
    },
    {
      "cell_type": "code",
      "source": [
        "print(d['total_rooms'])\n",
        "\n",
        "print('mean of total_rooms ')\n",
        "print(d['total_rooms'].mean())\n",
        "print('median of total_rooms')\n",
        "print(d['total_rooms'].median())\n",
        "print('mode of total_rooms')\n",
        "print(d['total_rooms'].mode())\n",
        "print('varience of total_rooms')\n",
        "print(d['total_rooms'].var())\n",
        "print('standard deviation of total_rooms')\n",
        "print(d['total_rooms'].std())\n",
        "print('range of total_rooms')\n",
        "print(d['total_rooms'].max()-d['total_rooms'].min())\n",
        "print('interquartile range of total_rooms')\n",
        "print(d['total_rooms'].quantile(0.75)-d['total_rooms'].quantile(0.25))\n",
        "print('skewness of total_rooms')\n",
        "print(d['total_rooms'].skew())\n",
        "print('kurtosis of total_rooms')\n",
        "print(d['total_rooms'].kurtosis())"
      ],
      "metadata": {
        "colab": {
          "base_uri": "https://localhost:8080/"
        },
        "id": "YCFTEDiDYfql",
        "outputId": "280a62dd-6891-4d5c-979e-4f337a50b639"
      },
      "execution_count": 9,
      "outputs": [
        {
          "output_type": "stream",
          "name": "stdout",
          "text": [
            "0        5612.0\n",
            "1        7650.0\n",
            "2         720.0\n",
            "3        1501.0\n",
            "4        1454.0\n",
            "          ...  \n",
            "16995    2217.0\n",
            "16996    2349.0\n",
            "16997    2677.0\n",
            "16998    2672.0\n",
            "16999    1820.0\n",
            "Name: total_rooms, Length: 17000, dtype: float64\n",
            "mean of total_rooms \n",
            "2643.664411764706\n",
            "median of total_rooms\n",
            "2127.0\n",
            "mode of total_rooms\n",
            "0    1582.0\n",
            "Name: total_rooms, dtype: float64\n",
            "varience of total_rooms\n",
            "4752169.234335496\n",
            "standard deviation of total_rooms\n",
            "2179.947071452767\n",
            "range of total_rooms\n",
            "37935.0\n",
            "interquartile range of total_rooms\n",
            "1689.25\n",
            "skewness of total_rooms\n",
            "4.002729998658741\n",
            "kurtosis of total_rooms\n",
            "29.515884775650868\n"
          ]
        }
      ]
    },
    {
      "cell_type": "code",
      "source": [
        "print(d['total_bedrooms'])\n",
        "\n",
        "print('mean of total_bedrooms ')\n",
        "print(d['total_bedrooms'].mean())\n",
        "print('median of total_bedrooms')\n",
        "print(d['total_bedrooms'].median())\n",
        "print('mode of total_bedrooms')\n",
        "print(d['total_bedrooms'].mode())\n",
        "print('varience of total_bedrooms')\n",
        "print(d['total_bedrooms'].var())\n",
        "print('standard deviation of total_bedrooms')\n",
        "print(d['total_bedrooms'].std())\n",
        "print('range of total_bedrooms')\n",
        "print(d['total_bedrooms'].max()-d['total_bedrooms'].min())\n",
        "print('interquartile range of total_bedrooms')\n",
        "print(d['total_bedrooms'].quantile(0.75)-d['total_bedrooms'].quantile(0.25))\n",
        "print('skewness of total_bedrooms')\n",
        "print(d['total_bedrooms'].skew())\n",
        "print('kurtosis of total_bedrooms')\n",
        "print(d['total_bedrooms'].kurtosis())"
      ],
      "metadata": {
        "colab": {
          "base_uri": "https://localhost:8080/"
        },
        "id": "aaAokvM1Y_15",
        "outputId": "331ea0b1-1c09-4f53-f593-53085aec9c14"
      },
      "execution_count": 10,
      "outputs": [
        {
          "output_type": "stream",
          "name": "stdout",
          "text": [
            "0        1283.0\n",
            "1        1901.0\n",
            "2         174.0\n",
            "3         337.0\n",
            "4         326.0\n",
            "          ...  \n",
            "16995     394.0\n",
            "16996     528.0\n",
            "16997     531.0\n",
            "16998     552.0\n",
            "16999     300.0\n",
            "Name: total_bedrooms, Length: 17000, dtype: float64\n",
            "mean of total_bedrooms \n",
            "539.4108235294118\n",
            "median of total_bedrooms\n",
            "434.0\n",
            "mode of total_bedrooms\n",
            "0    280.0\n",
            "Name: total_bedrooms, dtype: float64\n",
            "varience of total_bedrooms\n",
            "177661.78768212663\n",
            "standard deviation of total_bedrooms\n",
            "421.4994515798646\n",
            "range of total_bedrooms\n",
            "6444.0\n",
            "interquartile range of total_bedrooms\n",
            "351.25\n",
            "skewness of total_bedrooms\n",
            "3.3226367155099132\n",
            "kurtosis of total_bedrooms\n",
            "19.692750085289557\n"
          ]
        }
      ]
    },
    {
      "cell_type": "code",
      "source": [
        "print(\"              \")\n",
        "\n",
        "print(\"population\")\n",
        "print(d['population'])\n",
        "print(\"mean of population\")\n",
        "print(d.mean()['population'])\n",
        "print(\"median of population\")\n",
        "print(d.median()['population'])\n",
        "print(\"mode of population\")\n",
        "print(d.mode()['population'])\n",
        "print(\"variance of population\")\n",
        "print(d.var()['population'])\n",
        "print(\"standard deviation of population\")\n",
        "print(d.std()['population'])\n",
        "print(\"range of population\")\n",
        "print(d.max()['population']-d.min()['population'])\n",
        "print(\"interquartile range\")\n",
        "print(np.percentile(d['population'],75)-np.percentile(d['population'],25))\n",
        "print(\"skewness\")\n",
        "print(d['population'].skew())\n",
        "print(\"kurtosis\")\n",
        "print(d['population'].kurtosis())\n",
        "\n",
        "\n",
        "print(\"          \")\n",
        "print(\"households\")\n",
        "print(d['households'])\n",
        "print(\"mean of households\")\n",
        "print(d.mean()['households'])\n",
        "print(\"median of households\")\n",
        "print(d.median()['households'])\n",
        "print(\"mode of households\")\n",
        "print(d.mode()['households'])\n",
        "print(\"variance of households\")\n",
        "print(d.var()['households'])\n",
        "print(\"standard deviation of households\")\n",
        "print(d.std()['households'])\n",
        "print(\"range of households\")\n",
        "print(d.max()['households']-d.min()['households'])\n",
        "print(\"interquartile range\")\n",
        "print(np.percentile(d['households'],75)-np.percentile(d['households'],25))\n",
        "print(\"skewness\")\n",
        "print(d['households'].skew())\n",
        "print(\"kurtosis\")\n",
        "print(d['households'].kurtosis())\n",
        "\n",
        "print(\"              \")\n",
        "\n",
        "print(\"median_income\")\n",
        "print(d['median_income'])\n",
        "print(\"mean of median_income\")\n",
        "print(d.mean()['median_income'])\n",
        "print(\"median of median_income\")\n",
        "print(d.median()['median_income'])\n",
        "print(\"mode of median_income\")\n",
        "print(d.mode()['median_income'])\n",
        "print(\"variance of median_income\")\n",
        "print(d.var()['median_income'])\n",
        "print(\"standard deviation of median_income\")\n",
        "print(d.std()['median_income'])\n",
        "print(\"range of median_income\")\n",
        "print(d.max()['median_income']-d.min()['median_income'])\n",
        "print(\"interquartile range\")\n",
        "print(np.percentile(d['median_income'],75)-np.percentile(d['median_income'],25))\n",
        "print(\"skewness\")\n",
        "print(d['median_income'].skew())\n",
        "print(\"kurtosis\")\n",
        "print(d['median_income'].kurtosis())\n",
        "\n",
        "print(\"               \")\n",
        "print(\"median_house_value\")\n",
        "print(d['median_house_value'])\n",
        "print(\"mean of median_house_value\")\n",
        "print(d.mean()['median_house_value'])\n",
        "print(\"median of median_house_value\")\n",
        "print(\"mode of median_house_value\")\n",
        "print(d.mode()['median_house_value'])\n",
        "print(\"variance of median_house_value\")\n",
        "print(d.var()['median_house_value'])\n",
        "print(\"standard deviation of median_house_value\")\n",
        "print(d.std()['median_house_value'])\n",
        "print(\"range of median_house_value\")\n",
        "print(d.max()['median_house_value']-d.min()['median_house_value'])\n",
        "print(\"interquartile range\")\n",
        "print(np.percentile(d['median_income'],75)-np.percentile(d['median_income'],25))\n",
        "print(\"skewness\")\n",
        "print(d['median_income'].skew())\n",
        "print(\"kurtosis\")\n",
        "print(d['median_income'].kurtosis())"
      ],
      "metadata": {
        "colab": {
          "base_uri": "https://localhost:8080/"
        },
        "id": "x1Kdxq0TZGXT",
        "outputId": "c60016cd-6f5f-425d-8b73-98a45033deea"
      },
      "execution_count": 11,
      "outputs": [
        {
          "output_type": "stream",
          "name": "stdout",
          "text": [
            "              \n",
            "population\n",
            "0        1015.0\n",
            "1        1129.0\n",
            "2         333.0\n",
            "3         515.0\n",
            "4         624.0\n",
            "          ...  \n",
            "16995     907.0\n",
            "16996    1194.0\n",
            "16997    1244.0\n",
            "16998    1298.0\n",
            "16999     806.0\n",
            "Name: population, Length: 17000, dtype: float64\n",
            "mean of population\n",
            "1429.5739411764705\n",
            "median of population\n",
            "1167.0\n",
            "mode of population\n",
            "0    891.0\n",
            "1      NaN\n",
            "Name: population, dtype: float64\n",
            "variance of population\n",
            "1317566.4158512817\n",
            "standard deviation of population\n",
            "1147.8529591595266\n",
            "range of population\n",
            "35679.0\n",
            "interquartile range\n",
            "931.0\n",
            "skewness\n",
            "5.187211878247974\n",
            "kurtosis\n",
            "80.86199702158139\n",
            "          \n",
            "households\n",
            "0        472.0\n",
            "1        463.0\n",
            "2        117.0\n",
            "3        226.0\n",
            "4        262.0\n",
            "         ...  \n",
            "16995    369.0\n",
            "16996    465.0\n",
            "16997    456.0\n",
            "16998    478.0\n",
            "16999    270.0\n",
            "Name: households, Length: 17000, dtype: float64\n",
            "mean of households\n",
            "501.2219411764706\n",
            "median of households\n",
            "409.0\n",
            "mode of households\n",
            "0    306.0\n",
            "1    386.0\n",
            "Name: households, dtype: float64\n",
            "variance of households\n",
            "147856.27705252904\n",
            "standard deviation of households\n",
            "384.5208408559009\n",
            "range of households\n",
            "6081.0\n",
            "interquartile range\n",
            "323.25\n",
            "skewness\n",
            "3.3426683625335154\n",
            "kurtosis\n",
            "20.69264454575972\n",
            "              \n",
            "median_income\n",
            "0        1.4936\n",
            "1        1.8200\n",
            "2        1.6509\n",
            "3        3.1917\n",
            "4        1.9250\n",
            "          ...  \n",
            "16995    2.3571\n",
            "16996    2.5179\n",
            "16997    3.0313\n",
            "16998    1.9797\n",
            "16999    3.0147\n",
            "Name: median_income, Length: 17000, dtype: float64\n",
            "mean of median_income\n",
            "3.8835781000000007\n",
            "median of median_income\n",
            "3.5446\n",
            "mode of median_income\n",
            "0    3.125\n",
            "1      NaN\n",
            "Name: median_income, dtype: float64\n",
            "variance of median_income\n",
            "3.6410612986326623\n",
            "standard deviation of median_income\n",
            "1.9081565183791036\n",
            "range of median_income\n",
            "14.5002\n",
            "interquartile range\n",
            "2.2006250000000005\n",
            "skewness\n",
            "1.6266930979614043\n",
            "kurtosis\n",
            "4.764144930324816\n",
            "               \n",
            "median_house_value\n",
            "0         66900.0\n",
            "1         80100.0\n",
            "2         85700.0\n",
            "3         73400.0\n",
            "4         65500.0\n",
            "           ...   \n",
            "16995    111400.0\n",
            "16996     79000.0\n",
            "16997    103600.0\n",
            "16998     85800.0\n",
            "16999     94600.0\n",
            "Name: median_house_value, Length: 17000, dtype: float64\n",
            "mean of median_house_value\n",
            "207300.91235294117\n",
            "median of median_house_value\n",
            "mode of median_house_value\n",
            "0    500001.0\n",
            "1         NaN\n",
            "Name: median_house_value, dtype: float64\n",
            "variance of median_house_value\n",
            "13452233601.427578\n",
            "standard deviation of median_house_value\n",
            "115983.76438720885\n",
            "range of median_house_value\n",
            "485002.0\n",
            "interquartile range\n",
            "2.2006250000000005\n",
            "skewness\n",
            "1.6266930979614043\n",
            "kurtosis\n",
            "4.764144930324816\n"
          ]
        }
      ]
    }
  ]
}